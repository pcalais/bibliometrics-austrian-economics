{
 "cells": [
  {
   "cell_type": "code",
   "execution_count": 10,
   "metadata": {},
   "outputs": [
    {
     "data": {
      "text/plain": [
       "'\\nEscreva código python que escreve uma função read_tei_papers(path) que lê o nome de todos os arquivos XML de path e criar um pandas df em que cada registro tem a coluna paper_id, que é um número sequencial.\\n'"
      ]
     },
     "execution_count": 10,
     "metadata": {},
     "output_type": "execute_result"
    }
   ],
   "source": [
    "'''\n",
    "Escreva código python que escreve uma função read_tei_papers(path) que lê o nome de todos os arquivos XML de path e criar um pandas df em que cada registro tem a coluna paper_id, que é um número sequencial.\n",
    "'''"
   ]
  },
  {
   "cell_type": "markdown",
   "metadata": {},
   "source": [
    "# TODO\n",
    "# Guardar Título e Journal dos papers\n",
    "# Guardar Ref_Context"
   ]
  },
  {
   "cell_type": "code",
   "execution_count": 39,
   "metadata": {},
   "outputs": [],
   "source": [
    "'''\n",
    "prompt:\n",
    "Gere código python que cria uma classe Reference que tem atributos: context, page, raw\n",
    "'''\n",
    "\n",
    "class Reference:\n",
    "    def __init__(self, context: str, page: int, raw: str):\n",
    "        \"\"\"\n",
    "        Inicializa um objeto Reference.\n",
    "\n",
    "        Parâmetros:\n",
    "            context (str): Texto ao redor da referência (ex: sentença completa).\n",
    "            page (int): Número da página onde a referência foi encontrada.\n",
    "            raw (str): Texto cru da referência (por exemplo, conteúdo da tag <ref>).\n",
    "        \"\"\"\n",
    "        self.context = context\n",
    "        self.page = page\n",
    "        self.raw = raw\n",
    "\n",
    "    def __repr__(self):\n",
    "        return f\"Reference(page={self.page}, raw='{self.raw[:30]}...', context='{self.context[:30]}...')\"\n"
   ]
  },
  {
   "cell_type": "code",
   "execution_count": null,
   "metadata": {},
   "outputs": [
    {
     "data": {
      "text/plain": [
       "222"
      ]
     },
     "execution_count": 51,
     "metadata": {},
     "output_type": "execute_result"
    }
   ],
   "source": [
    "'''\n",
    "prompt:\n",
    "Write a function parse_tei(tei_filepath) that opens the TEI XML file and counts the number of biblStruct entries. \n",
    "Also, count the number of <s></s> entries. \n",
    "Return three values: the number of s entries, the number of biblStruct entries and a list of Reference objects. \n",
    "Each reference object has a field raw and a field context. Raw should be filled with the text inside the ref tag; context should be filled with the text on the parent <s> tag.\n",
    "'''\n",
    "\n",
    "import xml.etree.ElementTree as ET\n",
    "\n",
    "def parse_tei(tei_filepath):\n",
    "    \"\"\"\n",
    "    Parse a TEI XML file and return:\n",
    "    - the number of <s> elements\n",
    "    - the number of <biblStruct> elements\n",
    "    - a list of Reference objects with raw and context\n",
    "\n",
    "    Returns:\n",
    "        (int, int, list of Reference)\n",
    "    \"\"\"\n",
    "    try:\n",
    "        tree = ET.parse(tei_filepath)\n",
    "        root = tree.getroot()\n",
    "\n",
    "        # Handle TEI namespaces if present\n",
    "        ns = {'tei': root.tag.split('}')[0].strip('{')} if '}' in root.tag else {}\n",
    "\n",
    "        # Count <s> elements\n",
    "        s_elements = root.findall('.//tei:s', ns) if ns else root.findall('.//s')\n",
    "        num_s = len(s_elements)\n",
    "\n",
    "        # Count <biblStruct> elements\n",
    "        bibl_structs = root.findall('.//tei:biblStruct', ns) if ns else root.findall('.//biblStruct')\n",
    "        num_bibl_structs = len(bibl_structs)\n",
    "\n",
    "        # Extract <ref> text and corresponding <s> context\n",
    "        references = []\n",
    "        for s in s_elements:\n",
    "            # Get the full text of <s> (its string content)\n",
    "            context = ''.join(s.itertext()).strip()\n",
    "\n",
    "            # Find all <ref> elements inside this <s>\n",
    "            ref_elements = s.findall('.//tei:ref', ns) if ns else s.findall('.//ref')\n",
    "            for ref in ref_elements:\n",
    "                raw = ref.text.strip() if ref.text else \"\"\n",
    "                references.append(Reference(raw=raw, context=context, page=1))\n",
    "\n",
    "        return num_s, num_bibl_structs, references\n",
    "\n",
    "    except ET.ParseError as e:\n",
    "        print(f\"Error parsing XML '{tei_filepath}': {e}\")\n",
    "        return 0, 0, []\n",
    "    except FileNotFoundError:\n",
    "        print(f\"File not found: {tei_filepath}\")\n",
    "        return 0, 0, []\n",
    "\n",
    "paper_path = \"../data/teis/from-scopus/A-Historical-Intervention-in-the-Opportunity-Wars-Forgotten-Scholarship-the-DiscoveryCreation-Disruption-and-Moving-Forward-by-Looking-Backward_2023_SAGE-Publications-Ltd.pdf.grobid.tei.xml\"\n",
    "\n",
    "sentence_count, reference_count, refs = parse_tei(paper_path) \n",
    "assert sentence_count == 283\n",
    "assert reference_count == 106\n",
    "\n",
    "assert len(refs) == 222\n",
    "\n"
   ]
  },
  {
   "cell_type": "code",
   "execution_count": null,
   "metadata": {},
   "outputs": [],
   "source": [
    "'''\n",
    "prompt:\n",
    "Escreva código python que escreve uma função read_tei_papers(path) que lê o nome de todos os arquivos XML de path e cria dois dataframes.\n",
    "Um pandas df chamado \"papers_df\" em que cada registro tem a coluna paper_id, que é um número sequencial. \n",
    "Para cada arquivo, invoque parse_tei(tei_filepath), que retorna sentence_count, reference_count e refs.  \n",
    "Adicione sentence_count e reference_count no papers_df.  \n",
    "Ao outro df, chamado refs_df, adicione todos os refs. Um ref é um objeto Reference que tem os campos raw, context e page. Cada campo deve ser uma coluna em refs_df.\n",
    "'''\n",
    "\n",
    "import os\n",
    "import pandas as pd\n",
    "\n",
    "def read_tei_papers(path):\n",
    "    \"\"\"\n",
    "    Lê arquivos TEI XML de um diretório e retorna:\n",
    "    - papers_df: DataFrame com paper_id, filename, sentence_count, reference_count\n",
    "    - refs_df: DataFrame com paper_id, raw, context, page\n",
    "    \"\"\"\n",
    "    xml_files = [f for f in os.listdir(path) if f.lower().endswith('.xml')]\n",
    "\n",
    "    papers_data = []\n",
    "    refs_data = []\n",
    "\n",
    "    for i, filename in enumerate(xml_files):\n",
    "        paper_id = i + 1\n",
    "        filepath = os.path.join(path, filename)\n",
    "\n",
    "        sentence_count, reference_count, refs = parse_tei(filepath)\n",
    "\n",
    "        papers_data.append({\n",
    "            'paper_id': paper_id,\n",
    "            'filename': filename,\n",
    "            'sentence_count': sentence_count,\n",
    "            'reference_count': reference_count\n",
    "        })\n",
    "\n",
    "        for ref in refs:\n",
    "            refs_data.append({\n",
    "                'paper_id': paper_id,\n",
    "                'raw': ref.raw,\n",
    "                'context': ref.context,\n",
    "                'page': ref.page\n",
    "            })\n",
    "\n",
    "    papers_df = pd.DataFrame(papers_data)\n",
    "    refs_df = pd.DataFrame(refs_data)\n",
    "\n",
    "    return papers_df, refs_df"
   ]
  },
  {
   "cell_type": "code",
   "execution_count": 55,
   "metadata": {},
   "outputs": [
    {
     "name": "stdout",
     "output_type": "stream",
     "text": [
      "Error parsing XML '../data/teis/from-scopus\\Property-is-only-another-name-for-decentralized-creation-of-knowledge_2019_Springer-New-York-LLC-barbarabbertramgskcom.pdf.grobid.tei.xml': no element found: line 1, column 0\n"
     ]
    }
   ],
   "source": [
    "papers_df, refs_df = read_tei_papers(\"../data/teis/from-scopus\")\n",
    "\n",
    "papers_df.sort_values(by='reference_count', ascending=False)\n",
    "\n",
    "papers_df.to_csv(\"../data/papers.csv\")\n",
    "refs_df.to_csv(\"../data/refs.csv\")"
   ]
  }
 ],
 "metadata": {
  "kernelspec": {
   "display_name": "Python 3",
   "language": "python",
   "name": "python3"
  },
  "language_info": {
   "codemirror_mode": {
    "name": "ipython",
    "version": 3
   },
   "file_extension": ".py",
   "mimetype": "text/x-python",
   "name": "python",
   "nbconvert_exporter": "python",
   "pygments_lexer": "ipython3",
   "version": "3.11.9"
  }
 },
 "nbformat": 4,
 "nbformat_minor": 2
}
