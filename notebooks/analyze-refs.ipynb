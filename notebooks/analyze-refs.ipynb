{
 "cells": [
  {
   "cell_type": "code",
   "execution_count": 4,
   "metadata": {},
   "outputs": [
    {
     "data": {
      "text/html": [
       "<div>\n",
       "<style scoped>\n",
       "    .dataframe tbody tr th:only-of-type {\n",
       "        vertical-align: middle;\n",
       "    }\n",
       "\n",
       "    .dataframe tbody tr th {\n",
       "        vertical-align: top;\n",
       "    }\n",
       "\n",
       "    .dataframe thead th {\n",
       "        text-align: right;\n",
       "    }\n",
       "</style>\n",
       "<table border=\"1\" class=\"dataframe\">\n",
       "  <thead>\n",
       "    <tr style=\"text-align: right;\">\n",
       "      <th></th>\n",
       "      <th>Unnamed: 0</th>\n",
       "      <th>paper_id</th>\n",
       "      <th>raw</th>\n",
       "      <th>context</th>\n",
       "      <th>sentence_id</th>\n",
       "      <th>sentence_seq_number</th>\n",
       "      <th>author</th>\n",
       "      <th>page</th>\n",
       "      <th>year</th>\n",
       "    </tr>\n",
       "  </thead>\n",
       "  <tbody>\n",
       "    <tr>\n",
       "      <th>0</th>\n",
       "      <td>0</td>\n",
       "      <td>0</td>\n",
       "      <td>2</td>\n",
       "      <td>McCloskey provided a modern statement of the c...</td>\n",
       "      <td>_SmZZbe3</td>\n",
       "      <td>38</td>\n",
       "      <td>NaN</td>\n",
       "      <td>NaN</td>\n",
       "      <td>NaN</td>\n",
       "    </tr>\n",
       "    <tr>\n",
       "      <th>1</th>\n",
       "      <td>1</td>\n",
       "      <td>0</td>\n",
       "      <td>3</td>\n",
       "      <td>Mises defended his praxeological framework in ...</td>\n",
       "      <td>_gkXnGtB</td>\n",
       "      <td>60</td>\n",
       "      <td>NaN</td>\n",
       "      <td>NaN</td>\n",
       "      <td>NaN</td>\n",
       "    </tr>\n",
       "    <tr>\n",
       "      <th>2</th>\n",
       "      <td>2</td>\n",
       "      <td>0</td>\n",
       "      <td>4</td>\n",
       "      <td>Lavoie provided three reasons. 4</td>\n",
       "      <td>_GXJTw7N</td>\n",
       "      <td>67</td>\n",
       "      <td>NaN</td>\n",
       "      <td>NaN</td>\n",
       "      <td>NaN</td>\n",
       "    </tr>\n",
       "    <tr>\n",
       "      <th>3</th>\n",
       "      <td>3</td>\n",
       "      <td>0</td>\n",
       "      <td>5</td>\n",
       "      <td>We cannot understand the present meaning and r...</td>\n",
       "      <td>_QeAQAXQ</td>\n",
       "      <td>70</td>\n",
       "      <td>NaN</td>\n",
       "      <td>NaN</td>\n",
       "      <td>NaN</td>\n",
       "    </tr>\n",
       "    <tr>\n",
       "      <th>4</th>\n",
       "      <td>4</td>\n",
       "      <td>0</td>\n",
       "      <td>6</td>\n",
       "      <td>It was in this exercise, Lavoie sincerely beli...</td>\n",
       "      <td>_tk9t6uh</td>\n",
       "      <td>83</td>\n",
       "      <td>NaN</td>\n",
       "      <td>NaN</td>\n",
       "      <td>NaN</td>\n",
       "    </tr>\n",
       "  </tbody>\n",
       "</table>\n",
       "</div>"
      ],
      "text/plain": [
       "   Unnamed: 0  paper_id raw  \\\n",
       "0           0         0   2   \n",
       "1           1         0   3   \n",
       "2           2         0   4   \n",
       "3           3         0   5   \n",
       "4           4         0   6   \n",
       "\n",
       "                                             context sentence_id  \\\n",
       "0  McCloskey provided a modern statement of the c...    _SmZZbe3   \n",
       "1  Mises defended his praxeological framework in ...    _gkXnGtB   \n",
       "2                   Lavoie provided three reasons. 4    _GXJTw7N   \n",
       "3  We cannot understand the present meaning and r...    _QeAQAXQ   \n",
       "4  It was in this exercise, Lavoie sincerely beli...    _tk9t6uh   \n",
       "\n",
       "   sentence_seq_number author  page  year  \n",
       "0                   38    NaN   NaN   NaN  \n",
       "1                   60    NaN   NaN   NaN  \n",
       "2                   67    NaN   NaN   NaN  \n",
       "3                   70    NaN   NaN   NaN  \n",
       "4                   83    NaN   NaN   NaN  "
      ]
     },
     "execution_count": 4,
     "metadata": {},
     "output_type": "execute_result"
    }
   ],
   "source": [
    "import pandas as pd\n",
    "\n",
    "# Caminho para o arquivo CSV\n",
    "caminho_csv = \"../data/refs.csv\"\n",
    "\n",
    "# Lê o arquivo CSV em um DataFrame\n",
    "refs_df = pd.read_csv(caminho_csv)\n",
    "\n",
    "refs_df.head()\n"
   ]
  },
  {
   "cell_type": "code",
   "execution_count": 5,
   "metadata": {},
   "outputs": [
    {
     "data": {
      "text/plain": [
       "author\n",
       "Mises         3912\n",
       "Hayek         2855\n",
       "Kirzner       1459\n",
       "Rothbard      1382\n",
       "Schumpeter     901\n",
       "              ... \n",
       "Lienhard         1\n",
       "Orlikowski       1\n",
       "Araujo           1\n",
       "Obschonka        1\n",
       "Rode             1\n",
       "Name: count, Length: 11494, dtype: int64"
      ]
     },
     "execution_count": 5,
     "metadata": {},
     "output_type": "execute_result"
    }
   ],
   "source": [
    "refs_df['author'].value_counts()"
   ]
  }
 ],
 "metadata": {
  "kernelspec": {
   "display_name": "Python 3",
   "language": "python",
   "name": "python3"
  },
  "language_info": {
   "codemirror_mode": {
    "name": "ipython",
    "version": 3
   },
   "file_extension": ".py",
   "mimetype": "text/x-python",
   "name": "python",
   "nbconvert_exporter": "python",
   "pygments_lexer": "ipython3",
   "version": "3.11.9"
  }
 },
 "nbformat": 4,
 "nbformat_minor": 2
}
